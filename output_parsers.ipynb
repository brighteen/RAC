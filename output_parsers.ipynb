{
 "cells": [
  {
   "cell_type": "code",
   "execution_count": 1,
   "id": "31111bec",
   "metadata": {},
   "outputs": [
    {
     "data": {
      "text/plain": [
       "True"
      ]
     },
     "execution_count": 1,
     "metadata": {},
     "output_type": "execute_result"
    }
   ],
   "source": [
    "from dotenv import load_dotenv\n",
    "import os\n",
    "\n",
    "load_dotenv()"
   ]
  },
  {
   "cell_type": "code",
   "execution_count": 2,
   "id": "96ae869d",
   "metadata": {},
   "outputs": [],
   "source": [
    "from langchain.output_parsers import ResponseSchema, StructuredOutputParser\n",
    "from langchain_core.prompts import PromptTemplate\n",
    "from langchain_google_genai import ChatGoogleGenerativeAI"
   ]
  },
  {
   "cell_type": "code",
   "execution_count": 3,
   "id": "71deebc1",
   "metadata": {},
   "outputs": [],
   "source": [
    "# 사용자의 질문에 대한 답변\n",
    "response_schemas = [\n",
    "    ResponseSchema(name=\"answer\", description=\"사용자의 질문에 대한 답변\"),\n",
    "    ResponseSchema(\n",
    "        name=\"source\",\n",
    "        description=\"사용자의 질문에 답하기 위해 사용된 `출처`, `웹사이트주소` 이여야 합니다.\",\n",
    "    ),\n",
    "]\n",
    "# 응답 스키마를 기반으로 한 구조화된 출력 파서 초기화\n",
    "output_parser = StructuredOutputParser.from_response_schemas(response_schemas)"
   ]
  },
  {
   "cell_type": "code",
   "execution_count": 4,
   "id": "6f401ec3",
   "metadata": {},
   "outputs": [
    {
     "data": {
      "text/plain": [
       "[ResponseSchema(name='answer', description='사용자의 질문에 대한 답변', type='string'),\n",
       " ResponseSchema(name='source', description='사용자의 질문에 답하기 위해 사용된 `출처`, `웹사이트주소` 이여야 합니다.', type='string')]"
      ]
     },
     "execution_count": 4,
     "metadata": {},
     "output_type": "execute_result"
    }
   ],
   "source": [
    "response_schemas"
   ]
  },
  {
   "cell_type": "code",
   "execution_count": 5,
   "id": "65365a39",
   "metadata": {},
   "outputs": [
    {
     "data": {
      "text/plain": [
       "StructuredOutputParser(response_schemas=[ResponseSchema(name='answer', description='사용자의 질문에 대한 답변', type='string'), ResponseSchema(name='source', description='사용자의 질문에 답하기 위해 사용된 `출처`, `웹사이트주소` 이여야 합니다.', type='string')])"
      ]
     },
     "execution_count": 5,
     "metadata": {},
     "output_type": "execute_result"
    }
   ],
   "source": [
    "output_parser"
   ]
  },
  {
   "cell_type": "code",
   "execution_count": 6,
   "id": "5768591f",
   "metadata": {},
   "outputs": [],
   "source": [
    "# 출력 형식 지시사항을 파싱합니다.\n",
    "format_instructions = output_parser.get_format_instructions()\n",
    "prompt = PromptTemplate(\n",
    "    # 사용자의 질문에 최대한 답변하도록 템플릿을 설정합니다.\n",
    "    template=\"answer the users question as best as possible.\\n{format_instructions}\\n{question}\",\n",
    "    # 입력 변수로 'question'을 사용합니다.\n",
    "    input_variables=[\"question\"],\n",
    "    # 부분 변수로 'format_instructions'을 사용합니다.\n",
    "    partial_variables={\"format_instructions\": format_instructions},\n",
    ")"
   ]
  },
  {
   "cell_type": "code",
   "execution_count": 7,
   "id": "a2c38240",
   "metadata": {},
   "outputs": [
    {
     "data": {
      "text/plain": [
       "'The output should be a markdown code snippet formatted in the following schema, including the leading and trailing \"```json\" and \"```\":\\n\\n```json\\n{\\n\\t\"answer\": string  // 사용자의 질문에 대한 답변\\n\\t\"source\": string  // 사용자의 질문에 답하기 위해 사용된 `출처`, `웹사이트주소` 이여야 합니다.\\n}\\n```'"
      ]
     },
     "execution_count": 7,
     "metadata": {},
     "output_type": "execute_result"
    }
   ],
   "source": [
    "format_instructions"
   ]
  },
  {
   "cell_type": "code",
   "execution_count": 8,
   "id": "57008566",
   "metadata": {},
   "outputs": [
    {
     "data": {
      "text/plain": [
       "PromptTemplate(input_variables=['question'], input_types={}, partial_variables={'format_instructions': 'The output should be a markdown code snippet formatted in the following schema, including the leading and trailing \"```json\" and \"```\":\\n\\n```json\\n{\\n\\t\"answer\": string  // 사용자의 질문에 대한 답변\\n\\t\"source\": string  // 사용자의 질문에 답하기 위해 사용된 `출처`, `웹사이트주소` 이여야 합니다.\\n}\\n```'}, template='answer the users question as best as possible.\\n{format_instructions}\\n{question}')"
      ]
     },
     "execution_count": 8,
     "metadata": {},
     "output_type": "execute_result"
    }
   ],
   "source": [
    "prompt"
   ]
  },
  {
   "cell_type": "code",
   "execution_count": 9,
   "id": "346b806c",
   "metadata": {},
   "outputs": [],
   "source": [
    "model = ChatGoogleGenerativeAI(model=\"gemini-2.0-flash\",\n",
    "                                temperature=0,\n",
    "                                max_tokens=None,\n",
    "                                timeout=None,) # 모델 초기화\n",
    "chain = prompt | model | output_parser  # 프롬프트, 모델, 출력 파서를 연결"
   ]
  },
  {
   "cell_type": "code",
   "execution_count": 10,
   "id": "d8ae76e1",
   "metadata": {},
   "outputs": [
    {
     "data": {
      "text/plain": [
       "ChatGoogleGenerativeAI(model='models/gemini-2.0-flash', google_api_key=SecretStr('**********'), temperature=0.0, client=<google.ai.generativelanguage_v1beta.services.generative_service.client.GenerativeServiceClient object at 0x000001D4AEF72D90>, default_metadata=(), model_kwargs={})"
      ]
     },
     "execution_count": 10,
     "metadata": {},
     "output_type": "execute_result"
    }
   ],
   "source": [
    "model"
   ]
  },
  {
   "cell_type": "code",
   "execution_count": 11,
   "id": "f749537b",
   "metadata": {},
   "outputs": [
    {
     "data": {
      "text/plain": [
       "PromptTemplate(input_variables=['question'], input_types={}, partial_variables={'format_instructions': 'The output should be a markdown code snippet formatted in the following schema, including the leading and trailing \"```json\" and \"```\":\\n\\n```json\\n{\\n\\t\"answer\": string  // 사용자의 질문에 대한 답변\\n\\t\"source\": string  // 사용자의 질문에 답하기 위해 사용된 `출처`, `웹사이트주소` 이여야 합니다.\\n}\\n```'}, template='answer the users question as best as possible.\\n{format_instructions}\\n{question}')\n",
       "| ChatGoogleGenerativeAI(model='models/gemini-2.0-flash', google_api_key=SecretStr('**********'), temperature=0.0, client=<google.ai.generativelanguage_v1beta.services.generative_service.client.GenerativeServiceClient object at 0x000001D4AEF72D90>, default_metadata=(), model_kwargs={})\n",
       "| StructuredOutputParser(response_schemas=[ResponseSchema(name='answer', description='사용자의 질문에 대한 답변', type='string'), ResponseSchema(name='source', description='사용자의 질문에 답하기 위해 사용된 `출처`, `웹사이트주소` 이여야 합니다.', type='string')])"
      ]
     },
     "execution_count": 11,
     "metadata": {},
     "output_type": "execute_result"
    }
   ],
   "source": [
    "chain"
   ]
  },
  {
   "cell_type": "code",
   "execution_count": 12,
   "id": "9803c685",
   "metadata": {},
   "outputs": [
    {
     "data": {
      "text/plain": [
       "{'answer': '전주대학교는 전라북도 전주시 완산구 효자동 3가에 위치하고 있습니다.', 'source': '전주대학교 웹사이트'}"
      ]
     },
     "execution_count": 12,
     "metadata": {},
     "output_type": "execute_result"
    }
   ],
   "source": [
    "# 대한민국의 수도가 무엇인지 질문합니다.\n",
    "question = \"전주대학교는 어디에 있나요?\"\n",
    "results = chain.invoke({\"question\": question})\n",
    "results"
   ]
  },
  {
   "cell_type": "code",
   "execution_count": null,
   "id": "ff5953c7",
   "metadata": {},
   "outputs": [
    {
     "name": "stdout",
     "output_type": "stream",
     "text": [
      "{'answer': '전주대학교는 전라북도 전주시 완산구 효자동 3가에 위치하고 있습니다.', 'source': '전주대학교 웹사이트'}\n",
      "답변 type: <class 'dict'>\n",
      "answer_key: 전주대학교는 전라북도 전주시 완산구 효자동 3가에 위치하고 있습니다.\n",
      "source_key: 전주대학교 웹사이트\n",
      "answer type: <class 'str'>\n"
     ]
    }
   ],
   "source": [
    "print(f\"{results}\")\n",
    "print(f\"답변 type: {type(results)}\")\n",
    "print(f\"answer_key: {results['answer']}\")\n",
    "print(f\"source_key: {results['source']}\")\n",
    "print(f\"answer type: {type(results['answer'])}\")"
   ]
  },
  {
   "cell_type": "code",
   "execution_count": 26,
   "id": "4c081e0b",
   "metadata": {},
   "outputs": [
    {
     "data": {
      "text/plain": [
       "[AIMessage(content='전주대학교는 대한민국 전라북도 전주시에 위치한 사립 종합대학교입니다. \\n\\n**주요 특징:**\\n\\n*   **역사:** 1964년에 설립된 기독교 정신을 바탕으로 하는 대학교입니다.\\n*   **캠퍼스:** 아름다운 캠퍼스와 다양한 시설을 자랑합니다.\\n*   **학과:** 인문사회, 자연과학, 공학, 예체능 등 다양한 분야의 학과를 운영하고 있습니다.\\n*   **특성화 분야:** 한식조리학과, 게임콘텐츠학과 등이 유명하며, 지역사회와의 연계를 강화하고 있습니다.\\n*   **국제 교류:** 해외 대학과의 교류 프로그램을 통해 학생들에게 국제적인 경험을 제공합니다.\\n\\n더 자세한 정보는 전주대학교 공식 웹사이트([https://www.jj.ac.kr/](https://www.jj.ac.kr/))에서 확인하실 수 있습니다.', additional_kwargs={}, response_metadata={'prompt_feedback': {'block_reason': 0, 'safety_ratings': []}, 'finish_reason': 'STOP', 'model_name': 'gemini-2.0-flash', 'safety_ratings': []}, id='run--7b851c4a-6af5-424d-b264-78f1f6ef38d4-0', usage_metadata={'input_tokens': 13, 'output_tokens': 246, 'total_tokens': 259, 'input_token_details': {'cache_read': 0}}),\n",
       " AIMessage(content='전주대학교는 전라북도 전주시 완산구 효자동 3가에 위치하고 있습니다.', additional_kwargs={}, response_metadata={'prompt_feedback': {'block_reason': 0, 'safety_ratings': []}, 'finish_reason': 'STOP', 'model_name': 'gemini-2.0-flash', 'safety_ratings': []}, id='run--48eddb2b-04c8-49ca-b489-0164f451d5e9-0', usage_metadata={'input_tokens': 13, 'output_tokens': 27, 'total_tokens': 40, 'input_token_details': {'cache_read': 0}}),\n",
       " AIMessage(content='전주대학교는 1964년에 설립되었습니다.', additional_kwargs={}, response_metadata={'prompt_feedback': {'block_reason': 0, 'safety_ratings': []}, 'finish_reason': 'STOP', 'model_name': 'gemini-2.0-flash', 'safety_ratings': []}, id='run--c7dcbd4b-65a5-4307-aac3-97770037fd3c-0', usage_metadata={'input_tokens': 16, 'output_tokens': 17, 'total_tokens': 33, 'input_token_details': {'cache_read': 0}}),\n",
       " AIMessage(content='전주대학교는 전라북도 전주시에 있습니다.', additional_kwargs={}, response_metadata={'prompt_feedback': {'block_reason': 0, 'safety_ratings': []}, 'finish_reason': 'STOP', 'model_name': 'gemini-2.0-flash', 'safety_ratings': []}, id='run--37212be2-e808-4028-ad38-ddb1a02dd831-0', usage_metadata={'input_tokens': 14, 'output_tokens': 16, 'total_tokens': 30, 'input_token_details': {'cache_read': 0}})]"
      ]
     },
     "execution_count": 26,
     "metadata": {},
     "output_type": "execute_result"
    }
   ],
   "source": [
    "questions = [\n",
    "    \"전주대학교는 무슨 학교인가요?\",\n",
    "    \"전주대학교의 위치는 어디인가요?\",\n",
    "    \"전주대학교의 설립 연도는 언제인가요?\",\n",
    "    \"전주대학교가 있는 도시는 어디인가요?\",\n",
    "]\n",
    "results = model.batch(questions)\n",
    "results"
   ]
  },
  {
   "cell_type": "code",
   "execution_count": 49,
   "id": "446edebb",
   "metadata": {},
   "outputs": [
    {
     "name": "stdout",
     "output_type": "stream",
     "text": [
      "답변 타입: <class 'list'>\n",
      "0번째 답변 타입: <class 'langchain_core.messages.ai.AIMessage'>\n",
      "\n",
      "답변: 전주대학교는 대한민국 전라북도 전주시에 위치한 사립 종합대학교입니다. \n",
      "\n",
      "**주요 특징:**\n",
      "\n",
      "*   **역사:** 1964년에 설립된 기독교 정신을 바탕으로 하는 대학교입니다.\n",
      "*   **캠퍼스:** 아름다운 캠퍼스와 다양한 시설을 자랑합니다.\n",
      "*   **학과:** 인문사회, 자연과학, 공학, 예체능 등 다양한 분야의 학과를 운영하고 있습니다.\n",
      "*   **특성화 분야:** 한식조리학과, 게임콘텐츠학과 등이 유명하며, 지역사회와의 연계를 강화하고 있습니다.\n",
      "*   **국제 교류:** 해외 대학과의 교류 프로그램을 통해 학생들에게 국제적인 경험을 제공합니다.\n",
      "\n",
      "더 자세한 정보는 전주대학교 공식 웹사이트([https://www.jj.ac.kr/](https://www.jj.ac.kr/))에서 확인하실 수 있습니다.\n",
      "additional_metadata: {}\n",
      "response_metadata: {'prompt_feedback': {'block_reason': 0, 'safety_ratings': []}, 'finish_reason': 'STOP', 'model_name': 'gemini-2.0-flash', 'safety_ratings': []}\n",
      "id: run--7b851c4a-6af5-424d-b264-78f1f6ef38d4-0\n",
      "usage 메타데이터: {'input_tokens': 13, 'output_tokens': 246, 'total_tokens': 259, 'input_token_details': {'cache_read': 0}}\n"
     ]
    }
   ],
   "source": [
    "print(f\"답변 타입: {type(results)}\")\n",
    "print(f\"0번째 답변 타입: {type(results[0])}\\n\")\n",
    "print(f\"답변: {results[0].content}\")\n",
    "print(f\"additional_metadata: {results[0].additional_kwargs}\")\n",
    "print(f\"response_metadata: {results[0].response_metadata}\")\n",
    "print(f\"id: {results[0].id}\")\n",
    "print(f\"usage 메타데이터: {results[0].usage_metadata}\")\n",
    "# for i in range(len(results)):\n",
    "#     print(f\"질문: {questions[i]}\")\n",
    "#     print(f\"답변: {results[i].content}\")\n",
    "#     print(f\"출처: {results[i]}\")\n",
    "#     print(\"-\" * 50)"
   ]
  },
  {
   "cell_type": "code",
   "execution_count": null,
   "id": "6dea3b3d",
   "metadata": {},
   "outputs": [],
   "source": []
  }
 ],
 "metadata": {
  "kernelspec": {
   "display_name": "venv",
   "language": "python",
   "name": "python3"
  },
  "language_info": {
   "codemirror_mode": {
    "name": "ipython",
    "version": 3
   },
   "file_extension": ".py",
   "mimetype": "text/x-python",
   "name": "python",
   "nbconvert_exporter": "python",
   "pygments_lexer": "ipython3",
   "version": "3.11.9"
  }
 },
 "nbformat": 4,
 "nbformat_minor": 5
}
